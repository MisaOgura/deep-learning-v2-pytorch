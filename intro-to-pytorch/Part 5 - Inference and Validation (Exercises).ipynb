{
 "cells": [
  {
   "cell_type": "markdown",
   "metadata": {},
   "source": [
    "# Inference and Validation\n",
    "\n",
    "Now that you have a trained network, you can use it for making predictions. This is typically called **inference**, a term borrowed from statistics. However, neural networks have a tendency to perform *too well* on the training data and aren't able to generalize to data that hasn't been seen before. This is called **overfitting** and it impairs inference performance. To test for overfitting while training, we measure the performance on data not in the training set called the **validation** set. We avoid overfitting through regularization such as dropout while monitoring the validation performance during training. In this notebook, I'll show you how to do this in PyTorch. \n",
    "\n",
    "As usual, let's start by loading the dataset through torchvision. You'll learn more about torchvision and loading data in a later part. This time we'll be taking advantage of the test set which you can get by setting `train=False` here:\n",
    "\n",
    "```python\n",
    "testset = datasets.FashionMNIST('~/.pytorch/F_MNIST_data/', download=True, train=False, transform=transform)\n",
    "```\n",
    "\n",
    "The test set contains images just like the training set. Typically you'll see 10-20% of the original dataset held out for testing and validation with the rest being used for training."
   ]
  },
  {
   "cell_type": "code",
   "execution_count": 1,
   "metadata": {},
   "outputs": [],
   "source": [
    "import torch\n",
    "from torchvision import datasets, transforms\n",
    "\n",
    "# Define a transform to normalize the data\n",
    "transform = transforms.Compose([transforms.ToTensor(),\n",
    "                                transforms.Normalize((0.5, 0.5, 0.5), (0.5, 0.5, 0.5))])\n",
    "# Download and load the training data\n",
    "trainset = datasets.FashionMNIST('~/.pytorch/F_MNIST_data/', download=True, train=True, transform=transform)\n",
    "trainloader = torch.utils.data.DataLoader(trainset, batch_size=64, shuffle=True)\n",
    "\n",
    "# Download and load the test data\n",
    "testset = datasets.FashionMNIST('~/.pytorch/F_MNIST_data/', download=True, train=False, transform=transform)\n",
    "testloader = torch.utils.data.DataLoader(testset, batch_size=64, shuffle=True)"
   ]
  },
  {
   "cell_type": "markdown",
   "metadata": {},
   "source": [
    "Here I'll create a model like normal, using the same one from my solution for part 4."
   ]
  },
  {
   "cell_type": "code",
   "execution_count": 2,
   "metadata": {},
   "outputs": [],
   "source": [
    "from torch import nn, optim\n",
    "import torch.nn.functional as F\n",
    "\n",
    "class Classifier(nn.Module):\n",
    "    def __init__(self):\n",
    "        super().__init__()\n",
    "        self.fc1 = nn.Linear(784, 256)\n",
    "        self.fc2 = nn.Linear(256, 128)\n",
    "        self.fc3 = nn.Linear(128, 64)\n",
    "        self.fc4 = nn.Linear(64, 10)\n",
    "        \n",
    "    def forward(self, x):\n",
    "        # make sure input tensor is flattened\n",
    "        x = x.view(x.shape[0], -1)\n",
    "        \n",
    "        x = F.relu(self.fc1(x))\n",
    "        x = F.relu(self.fc2(x))\n",
    "        x = F.relu(self.fc3(x))\n",
    "        x = F.log_softmax(self.fc4(x), dim=1)\n",
    "        \n",
    "        return x"
   ]
  },
  {
   "cell_type": "markdown",
   "metadata": {},
   "source": [
    "The goal of validation is to measure the model's performance on data that isn't part of the training set. Performance here is up to the developer to define though. Typically this is just accuracy, the percentage of classes the network predicted correctly. Other options are [precision and recall](https://en.wikipedia.org/wiki/Precision_and_recall#Definition_(classification_context)) and top-5 error rate. We'll focus on accuracy here. First I'll do a forward pass with one batch from the test set."
   ]
  },
  {
   "cell_type": "code",
   "execution_count": 3,
   "metadata": {},
   "outputs": [
    {
     "name": "stdout",
     "output_type": "stream",
     "text": [
      "torch.Size([64, 10])\n"
     ]
    }
   ],
   "source": [
    "model = Classifier()\n",
    "\n",
    "images, labels = next(iter(testloader))\n",
    "# Get the class probabilities\n",
    "ps = torch.exp(model(images))\n",
    "# Make sure the shape is appropriate, we should get 10 class probabilities for 64 examples\n",
    "print(ps.shape)"
   ]
  },
  {
   "cell_type": "markdown",
   "metadata": {},
   "source": [
    "With the probabilities, we can get the most likely class using the `ps.topk` method. This returns the $k$ highest values. Since we just want the most likely class, we can use `ps.topk(1)`. This returns a tuple of the top-$k$ values and the top-$k$ indices. If the highest value is the fifth element, we'll get back 4 as the index."
   ]
  },
  {
   "cell_type": "code",
   "execution_count": 4,
   "metadata": {},
   "outputs": [
    {
     "name": "stdout",
     "output_type": "stream",
     "text": [
      "tensor([[1],\n",
      "        [0],\n",
      "        [1],\n",
      "        [9],\n",
      "        [9],\n",
      "        [0],\n",
      "        [0],\n",
      "        [0],\n",
      "        [9],\n",
      "        [0]])\n"
     ]
    }
   ],
   "source": [
    "top_p, top_class = ps.topk(1, dim=1)\n",
    "\n",
    "# Look at the most likely classes for the first 10 examples\n",
    "print(top_class[:10,:])"
   ]
  },
  {
   "cell_type": "markdown",
   "metadata": {},
   "source": [
    "Now we can check if the predicted classes match the labels. This is simple to do by equating `top_class` and `labels`, but we have to be careful of the shapes. Here `top_class` is a 2D tensor with shape `(64, 1)` while `labels` is 1D with shape `(64)`. To get the equality to work out the way we want, `top_class` and `labels` must have the same shape.\n",
    "\n",
    "If we do\n",
    "\n",
    "```python\n",
    "equals = top_class == labels\n",
    "```\n",
    "\n",
    "`equals` will have shape `(64, 64)`, try it yourself. What it's doing is comparing the one element in each row of `top_class` with each element in `labels` which returns 64 True/False boolean values for each row."
   ]
  },
  {
   "cell_type": "code",
   "execution_count": 5,
   "metadata": {},
   "outputs": [
    {
     "name": "stdout",
     "output_type": "stream",
     "text": [
      "torch.Size([64, 1])\n",
      "torch.Size([64])\n",
      "torch.Size([64, 64])\n",
      "64 1\n",
      "torch.Size([64, 1])\n"
     ]
    }
   ],
   "source": [
    "print(top_class.shape)\n",
    "print(labels.shape)\n",
    "\n",
    "print((top_class == labels).shape)\n",
    "\n",
    "equals = top_class == labels.view(*top_class.shape)\n",
    "\n",
    "print(*top_class.shape)\n",
    "\n",
    "print(equals.shape)"
   ]
  },
  {
   "cell_type": "markdown",
   "metadata": {},
   "source": [
    "Now we need to calculate the percentage of correct predictions. `equals` has binary values, either 0 or 1. This means that if we just sum up all the values and divide by the number of values, we get the percentage of correct predictions. This is the same operation as taking the mean, so we can get the accuracy with a call to `torch.mean`. If only it was that simple. If you try `torch.mean(equals)`, you'll get an error\n",
    "\n",
    "```\n",
    "RuntimeError: mean is not implemented for type torch.ByteTensor\n",
    "```\n",
    "\n",
    "This happens because `equals` has type `torch.ByteTensor` but `torch.mean` isn't implement for tensors with that type. So we'll need to convert `equals` to a float tensor. Note that when we take `torch.mean` it returns a scalar tensor, to get the actual value as a float we'll need to do `accuracy.item()`."
   ]
  },
  {
   "cell_type": "code",
   "execution_count": 6,
   "metadata": {},
   "outputs": [
    {
     "name": "stdout",
     "output_type": "stream",
     "text": [
      "Accuracy: 14.0625%\n"
     ]
    }
   ],
   "source": [
    "accuracy = torch.mean(equals.type(torch.FloatTensor))\n",
    "print(f'Accuracy: {accuracy.item()*100}%')"
   ]
  },
  {
   "cell_type": "markdown",
   "metadata": {},
   "source": [
    "The network is untrained so it's making random guesses and we should see an accuracy around 10%. Now let's train our network and include our validation pass so we can measure how well the network is performing on the test set. Since we're not updating our parameters in the validation pass, we can speed up our code by turning off gradients using `torch.no_grad()`:\n",
    "\n",
    "```python\n",
    "# turn off gradients\n",
    "with torch.no_grad():\n",
    "    # validation pass here\n",
    "    for images, labels in testloader:\n",
    "        ...\n",
    "```\n",
    "\n",
    ">**Exercise:** Implement the validation loop below and print out the total accuracy after the loop. You can largely copy and paste the code from above, but I suggest typing it in because writing it out yourself is essential for building the skill. In general you'll always learn more by typing it rather than copy-pasting. You should be able to get an accuracy above 80%."
   ]
  },
  {
   "cell_type": "code",
   "execution_count": null,
   "metadata": {},
   "outputs": [],
   "source": [
    "# Create a new instance of the Classifier\n",
    "\n",
    "model = Classifier()\n",
    "\n",
    "# Create a criterion to calculate the loss\n",
    "\n",
    "criterion = nn.NLLLoss()\n",
    "\n",
    "# Choose an algorithm for optimisation of weights\n",
    "\n",
    "optimizer = optim.Adam(model.parameters(), lr=0.003)\n",
    "\n",
    "epochs = 30\n",
    "\n",
    "# Initiate empty lists for storing losses\n",
    "\n",
    "train_losses, test_losses = [], []\n",
    "\n",
    "for e in range(epochs):\n",
    "    running_loss = 0\n",
    "    \n",
    "    # Each epoch, all the 938 images go through in baches of 64.\n",
    "    \n",
    "    for images, labels in trainloader:\n",
    "        \n",
    "        # Clean the optimizer (essential!!!)\n",
    "        \n",
    "        optimizer.zero_grad()\n",
    "        \n",
    "        # Get log probabilities\n",
    "        \n",
    "        log_ps = model(images)\n",
    "        \n",
    "        # Calculate loss from log probabilities\n",
    "        \n",
    "        loss = criterion(log_ps, labels)\n",
    "        \n",
    "        # Calculate gradients\n",
    "        \n",
    "        loss.backward()\n",
    "        \n",
    "        # Update weights\n",
    "        \n",
    "        optimizer.step()\n",
    "        \n",
    "        # After each batch, accumulate loss\n",
    "        \n",
    "        running_loss += loss\n",
    "        \n",
    "    else:\n",
    "        with torch.no_grad():\n",
    "            # Monitor test loss and accuracy\n",
    "            test_loss = 0\n",
    "            accuracy = 0\n",
    "            \n",
    "            for val_images, val_lables in testloader:\n",
    "                    \n",
    "                # Calculate logits\n",
    "                \n",
    "                log_ps = model(val_images)\n",
    "                print(val_images.shape)\n",
    "                print(log_ps.shape)\n",
    "                # After each batch, accumulate loss\n",
    "                \n",
    "                test_loss += criterion(log_ps, val_lables)\n",
    "\n",
    "                # Obrain predictions \n",
    "                \n",
    "                predictions = torch.exp(log_ps)\n",
    "                \n",
    "                # Extract top ranked class for each validation sample\n",
    "\n",
    "                _, top_class = predictions.topk(1, dim=1)\n",
    "                \n",
    "                # Compare predictions vs labels\n",
    "\n",
    "                equals = top_class == val_lables.view(*top_class.shape)\n",
    "\n",
    "                # Calculate accuracy\n",
    "                \n",
    "                accuracy += torch.mean(equals.type(torch.FloatTensor))\n",
    "        \n",
    "        train_losses.append(running_loss/len(trainloader))\n",
    "        test_losses.append(test_loss/len(testloader))\n",
    "\n",
    "        ## TODO: Implement the validation pass and print out the validation accuracy\n",
    "        \n",
    "        # Devide the loss & accuracy by the number of samples, as it has been accumulated over batches\n",
    "        \n",
    "        print('Epoch {}/{}: '.format(e+1, epochs),\n",
    "              'Training loss: {:.3f} '.format(running_loss/len(trainloader)),\n",
    "              'Test loss: {:.3f} '.format(test_loss/len(testloader)),\n",
    "              'Test accuracy: {:.3f}'.format(accuracy/len(testloader)))"
   ]
  },
  {
   "cell_type": "code",
   "execution_count": 15,
   "metadata": {},
   "outputs": [
    {
     "data": {
      "text/plain": [
       "<matplotlib.legend.Legend at 0x10c501b70>"
      ]
     },
     "execution_count": 15,
     "metadata": {},
     "output_type": "execute_result"
    },
    {
     "data": {
      "image/png": "[encoded data removed]",
      "text/plain": [
       "<Figure size 432x288 with 1 Axes>"
      ]
     },
     "metadata": {
      "image/png": {
       "height": 250,
       "width": 380
      }
     },
     "output_type": "display_data"
    }
   ],
   "source": [
    "%matplotlib inline\n",
    "%config InlineBackend.figure_format = 'retina'\n",
    "\n",
    "import matplotlib.pyplot as plt\n",
    "\n",
    "plt.plot(train_losses, label='Training loss')\n",
    "plt.plot(test_losses, label='Test loss')\n",
    "plt.legend(frameon=False)"
   ]
  },
  {
   "cell_type": "markdown",
   "metadata": {},
   "source": [
    "## Overfitting\n",
    "\n",
    "If we look at the training and validation losses as we train the network, we can see a phenomenon known as overfitting.\n",
    "\n",
    "<img src='assets/overfitting.png' width=450px>\n",
    "\n",
    "The network learns the training set better and better, resulting in lower training losses. However, it starts having problems generalizing to data outside the training set leading to the validation loss increasing. The ultimate goal of any deep learning model is to make predictions on new data, so we should strive to get the lowest validation loss possible. One option is to use the version of the model with the lowest validation loss, here the one around 8-10 training epochs. This strategy is called *early-stopping*. In practice, you'd save the model frequently as you're training then later choose the model with the lowest validation loss.\n",
    "\n",
    "The most common method to reduce overfitting (outside of early-stopping) is *dropout*, where we randomly drop input units. This forces the network to share information between weights, increasing it's ability to generalize to new data. Adding dropout in PyTorch is straightforward using the [`nn.Dropout`](https://pytorch.org/docs/stable/nn.html#torch.nn.Dropout) module.\n",
    "\n",
    "```python\n",
    "class Classifier(nn.Module):\n",
    "    def __init__(self):\n",
    "        super().__init__()\n",
    "        self.fc1 = nn.Linear(784, 256)\n",
    "        self.fc2 = nn.Linear(256, 128)\n",
    "        self.fc3 = nn.Linear(128, 64)\n",
    "        self.fc4 = nn.Linear(64, 10)\n",
    "        \n",
    "        # Dropout module with 0.2 drop probability\n",
    "        self.dropout = nn.Dropout(p=0.2)\n",
    "        \n",
    "    def forward(self, x):\n",
    "        # make sure input tensor is flattened\n",
    "        x = x.view(x.shape[0], -1)\n",
    "        \n",
    "        # Now with dropout\n",
    "        x = self.dropout(F.relu(self.fc1(x)))\n",
    "        x = self.dropout(F.relu(self.fc2(x)))\n",
    "        x = self.dropout(F.relu(self.fc3(x)))\n",
    "        \n",
    "        # output so no dropout here\n",
    "        x = F.log_softmax(self.fc4(x), dim=1)\n",
    "        \n",
    "        return x\n",
    "```\n",
    "\n",
    "During training we want to use dropout to prevent overfitting, but during inference we want to use the entire network. So, we need to turn off dropout during validation, testing, and whenever we're using the network to make predictions. To do this, you use `model.eval()`. This sets the model to evaluation mode where the dropout probability is 0. You can turn dropout back on by setting the model to train mode with `model.train()`. In general, the pattern for the validation loop will look like this, where you turn off gradients, set the model to evaluation mode, calculate the validation loss and metric, then set the model back to train mode.\n",
    "\n",
    "```python\n",
    "# turn off gradients\n",
    "with torch.no_grad():\n",
    "    \n",
    "    # set model to evaluation mode\n",
    "    model.eval()\n",
    "    \n",
    "    # validation pass here\n",
    "    for images, labels in testloader:\n",
    "        ...\n",
    "\n",
    "# set model back to train mode\n",
    "model.train()\n",
    "```"
   ]
  },
  {
   "cell_type": "markdown",
   "metadata": {},
   "source": [
    "> **Exercise:** Add dropout to your model and train it on Fashion-MNIST again. See if you can get a lower validation loss or higher accuracy."
   ]
  },
  {
   "cell_type": "code",
   "execution_count": 44,
   "metadata": {},
   "outputs": [],
   "source": [
    "## TODO: Define your model with dropout added\n",
    "\n",
    "from torch import nn, optim\n",
    "import torch.nn.functional as F\n",
    "\n",
    "class MyClassifier(nn.Module):\n",
    "    def __init__(self):\n",
    "        super().__init__()\n",
    "        \n",
    "        # Input: 784 (28*28), output: 10 classes\n",
    "        self.fc1 = nn.Linear(784, 256)\n",
    "        self.fc2 = nn.Linear(256, 128)\n",
    "        self.fc3 = nn.Linear(128, 64)\n",
    "        self.fc4 = nn.Linear(64, 10)\n",
    "        \n",
    "        self.dropout = nn.Dropout(p=0.2)\n",
    "        \n",
    "    def forward(self, x):\n",
    "        # Keep the batch size (x.shape[0]) and flatten the rest\n",
    "        \n",
    "        x = x.view(x.shape[0], -1)\n",
    "        \n",
    "        # Feed the features forward through the network with acctivation function\n",
    "        \n",
    "        x = self.dropout(F.relu(self.fc1(x)))\n",
    "        x = self.dropout(F.relu(self.fc2(x)))\n",
    "        x = self.dropout(F.relu(self.fc3(x)))\n",
    "        \n",
    "        # Calsulate softmax across columns (dim=1)\n",
    "        x = F.log_softmax(self.fc4(x), dim=1)\n",
    "        \n",
    "        return x"
   ]
  },
  {
   "cell_type": "code",
   "execution_count": 45,
   "metadata": {},
   "outputs": [
    {
     "name": "stdout",
     "output_type": "stream",
     "text": [
      "Epoch 0/30\n",
      "Train loss: 0.603, test loss: 0.465, test accuracy: 0.835\n",
      "Epoch 1/30\n",
      "Train loss: 0.478, test loss: 0.437, test accuracy: 0.840\n",
      "Epoch 2/30\n",
      "Train loss: 0.449, test loss: 0.417, test accuracy: 0.845\n",
      "Epoch 3/30\n",
      "Train loss: 0.433, test loss: 0.408, test accuracy: 0.860\n",
      "Epoch 4/30\n",
      "Train loss: 0.418, test loss: 0.404, test accuracy: 0.858\n",
      "Epoch 5/30\n",
      "Train loss: 0.406, test loss: 0.405, test accuracy: 0.857\n",
      "Epoch 6/30\n",
      "Train loss: 0.404, test loss: 0.400, test accuracy: 0.861\n",
      "Epoch 7/30\n",
      "Train loss: 0.399, test loss: 0.392, test accuracy: 0.862\n",
      "Epoch 8/30\n",
      "Train loss: 0.398, test loss: 0.397, test accuracy: 0.864\n",
      "Epoch 9/30\n",
      "Train loss: 0.386, test loss: 0.378, test accuracy: 0.872\n",
      "Epoch 10/30\n",
      "Train loss: 0.385, test loss: 0.395, test accuracy: 0.854\n",
      "Epoch 11/30\n",
      "Train loss: 0.385, test loss: 0.399, test accuracy: 0.863\n",
      "Epoch 12/30\n",
      "Train loss: 0.377, test loss: 0.380, test accuracy: 0.870\n",
      "Epoch 13/30\n",
      "Train loss: 0.374, test loss: 0.384, test accuracy: 0.865\n",
      "Epoch 14/30\n",
      "Train loss: 0.362, test loss: 0.374, test accuracy: 0.870\n",
      "Epoch 15/30\n",
      "Train loss: 0.367, test loss: 0.380, test accuracy: 0.868\n",
      "Epoch 16/30\n",
      "Train loss: 0.361, test loss: 0.365, test accuracy: 0.874\n",
      "Epoch 17/30\n",
      "Train loss: 0.366, test loss: 0.387, test accuracy: 0.868\n",
      "Epoch 18/30\n",
      "Train loss: 0.363, test loss: 0.392, test accuracy: 0.867\n",
      "Epoch 19/30\n",
      "Train loss: 0.360, test loss: 0.400, test accuracy: 0.867\n",
      "Epoch 20/30\n",
      "Train loss: 0.356, test loss: 0.400, test accuracy: 0.864\n",
      "Epoch 21/30\n",
      "Train loss: 0.349, test loss: 0.386, test accuracy: 0.872\n",
      "Epoch 22/30\n",
      "Train loss: 0.346, test loss: 0.373, test accuracy: 0.872\n",
      "Epoch 23/30\n",
      "Train loss: 0.347, test loss: 0.388, test accuracy: 0.867\n",
      "Epoch 24/30\n",
      "Train loss: 0.352, test loss: 0.396, test accuracy: 0.872\n",
      "Epoch 25/30\n",
      "Train loss: 0.349, test loss: 0.380, test accuracy: 0.867\n",
      "Epoch 26/30\n",
      "Train loss: 0.343, test loss: 0.369, test accuracy: 0.877\n",
      "Epoch 27/30\n",
      "Train loss: 0.338, test loss: 0.399, test accuracy: 0.873\n",
      "Epoch 28/30\n",
      "Train loss: 0.344, test loss: 0.421, test accuracy: 0.861\n",
      "Epoch 29/30\n",
      "Train loss: 0.342, test loss: 0.395, test accuracy: 0.872\n"
     ]
    }
   ],
   "source": [
    "## TODO: Train your model with dropout, and monitor the training progress with the validation loss and accuracy\n",
    "\n",
    "# Define hyperparamenters\n",
    "\n",
    "epoches = 30\n",
    "learning_rate = 0.003\n",
    "\n",
    "# Create model, criterion and optimiser\n",
    "\n",
    "model = MyClassifier()\n",
    "criterion = nn.NLLLoss()\n",
    "optimiser = optim.Adam(model.parameters(), lr=learning_rate)\n",
    "\n",
    "# Collect losses\n",
    "train_losses = []\n",
    "test_losses = []\n",
    "\n",
    "# Training\n",
    "\n",
    "for e in range(epoches):\n",
    "    train_loss = 0\n",
    "    \n",
    "    # Training pass: feed network in batches of 64\n",
    "    \n",
    "    for images, labels in trainloader:\n",
    "        # Reset gradient\n",
    "        \n",
    "        optimiser.zero_grad()\n",
    "        \n",
    "        # Calculate log probalities        \n",
    "        \n",
    "        log_ps = model(images)\n",
    "        \n",
    "        # Calculate loss by comparing the logits to labels\n",
    "        \n",
    "        loss = criterion(log_ps, labels)\n",
    "        \n",
    "        # Calculate gradient based on the loss\n",
    "        \n",
    "        loss.backward()\n",
    "        \n",
    "        # Update the weight\n",
    "        \n",
    "        optimiser.step()\n",
    "        \n",
    "        # Accumulate the loss\n",
    "        \n",
    "        train_loss += loss\n",
    "        \n",
    "    # Validation pass\n",
    "    else:\n",
    "        test_loss = 0\n",
    "        accuracy = 0\n",
    "        \n",
    "        # Turn off gradient\n",
    "        \n",
    "        with torch.no_grad():\n",
    "            \n",
    "            # Switch to evaluation mode\n",
    "            \n",
    "            model.eval()\n",
    "            \n",
    "            # Feed the validation data\n",
    "            \n",
    "            for test_images, test_labels in testloader:\n",
    "                \n",
    "                log_ps = model(test_images)\n",
    "                \n",
    "                test_loss += criterion(log_ps, test_labels)\n",
    "                \n",
    "                predictions = torch.exp(log_ps)\n",
    "                \n",
    "                _, top_class = predictions.topk(1, dim=1)\n",
    "                \n",
    "                equals = top_class == test_labels.view(*top_class.shape)\n",
    "\n",
    "                accuracy += torch.mean(equals.type(torch.FloatTensor))\n",
    "        \n",
    "        train_loss = train_loss/len(trainloader)\n",
    "        test_loss = test_loss/len(testloader)\n",
    "        accuracy = accuracy/len(testloader)\n",
    "        \n",
    "        train_losses.append(train_loss)\n",
    "        test_losses.append(test_loss)\n",
    "        \n",
    "        print('Epoch {}/{}'.format(e+1, epoches))\n",
    "        print('Train loss: {:.3f}, test loss: {:.3f}, test accuracy: {:.3f}'\n",
    "              .format(train_loss, test_loss, accuracy))\n",
    "    \n",
    "    # Switch back to training mode for the next epoch\n",
    "    \n",
    "    model.train()\n",
    "        "
   ]
  },
  {
   "cell_type": "code",
   "execution_count": 48,
   "metadata": {},
   "outputs": [
    {
     "data": {
      "text/plain": [
       "<matplotlib.legend.Legend at 0x11dfbdcc0>"
      ]
     },
     "execution_count": 48,
     "metadata": {},
     "output_type": "execute_result"
    },
    {
     "data": {
      "image/png": "[encoded data removed]",
      "text/plain": [
       "<Figure size 432x288 with 1 Axes>"
      ]
     },
     "metadata": {
      "image/png": {
       "height": 250,
       "width": 380
      }
     },
     "output_type": "display_data"
    }
   ],
   "source": [
    "plt.plot(train_losses, label='Train losses')\n",
    "plt.plot(test_losses, label='Test losses')\n",
    "\n",
    "plt.legend(frameon=False)"
   ]
  },
  {
   "cell_type": "markdown",
   "metadata": {},
   "source": [
    "## Inference\n",
    "\n",
    "Now that the model is trained, we can use it for inference. We've done this before, but now we need to remember to set the model in inference mode with `model.eval()`. You'll also want to turn off autograd with the `torch.no_grad()` context."
   ]
  },
  {
   "cell_type": "code",
   "execution_count": 54,
   "metadata": {},
   "outputs": [
    {
     "data": {
      "image/png": "[encoded data removed]",
      "text/plain": [
       "<Figure size 432x648 with 2 Axes>"
      ]
     },
     "metadata": {
      "image/png": {
       "height": 204,
       "width": 423
      }
     },
     "output_type": "display_data"
    }
   ],
   "source": [
    "# Import helper module (should be in the repo)\n",
    "import helper\n",
    "\n",
    "# Test out your network!\n",
    "\n",
    "model.eval()\n",
    "\n",
    "dataiter = iter(testloader)\n",
    "images, labels = dataiter.next()\n",
    "img = images[0]\n",
    "# Convert 2D image to 1D vector\n",
    "img = img.view(1, 784)\n",
    "\n",
    "# Calculate the class probabilities (softmax) for img\n",
    "with torch.no_grad():\n",
    "    output = model.forward(img)\n",
    "\n",
    "ps = torch.exp(output)\n",
    "\n",
    "# Plot the image and probabilities\n",
    "helper.view_classify(img.view(1, 28, 28), ps, version='Fashion')"
   ]
  },
  {
   "cell_type": "markdown",
   "metadata": {},
   "source": [
    "## Next Up!\n",
    "\n",
    "In the next part, I'll show you how to save your trained models. In general, you won't want to train a model everytime you need it. Instead, you'll train once, save it, then load the model when you want to train more or use if for inference."
   ]
  }
 ],
 "metadata": {
  "kernelspec": {
   "display_name": "Python 3",
   "language": "python",
   "name": "python3"
  },
  "language_info": {
   "codemirror_mode": {
    "name": "ipython",
    "version": 3
   },
   "file_extension": ".py",
   "mimetype": "text/x-python",
   "name": "python",
   "nbconvert_exporter": "python",
   "pygments_lexer": "ipython3",
   "version": "3.6.4"
  }
 },
 "nbformat": 4,
 "nbformat_minor": 2
}
